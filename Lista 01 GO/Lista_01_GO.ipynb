{
  "nbformat": 4,
  "nbformat_minor": 0,
  "metadata": {
    "colab": {
      "provenance": []
    },
    "kernelspec": {
      "name": "python3",
      "display_name": "Python 3"
    },
    "language_info": {
      "name": "python"
    }
  },
  "cells": [
    {
      "cell_type": "code",
      "execution_count": null,
      "metadata": {
        "id": "WXamnG_a4Y1w"
      },
      "outputs": [],
      "source": [
        "**QUESTÃO 1**\n",
        "\n",
        "package main\n",
        "\n",
        "import \"fmt\"\n",
        "\n",
        "func main() {\n",
        "\tvar n1, n2, n3, media float64\n",
        "\n",
        "\tfmt.Print(\"Digite a primeira nota: \")\n",
        "\tfmt.Scanln(&n1)\n",
        "\n",
        "\tfmt.Print(\"Digite a segunda nota: \")\n",
        "\tfmt.Scanln(&n2)\n",
        "\n",
        "\tfmt.Print(\"Digite a terceira nota: \")\n",
        "\tfmt.Scanln(&n3)\n",
        "\n",
        "\tmedia = (n1 + n2 + n3) / 3\n",
        "\n",
        "\tif media >= 6 {\n",
        "\t\tfmt.Println(\"Média:\", media)\n",
        "\t\tfmt.Println(\"Aprovado\")\n",
        "\t} else {\n",
        "\t\tfmt.Println(\"Média:\", media)\n",
        "\t\tfmt.Println(\"REPROVADO\")\n",
        "\t}\n",
        "}\n"
      ]
    },
    {
      "cell_type": "markdown",
      "source": [],
      "metadata": {
        "id": "Kcma6GQy4gKD"
      }
    },
    {
      "cell_type": "markdown",
      "source": [
        "**QUESTÃO 2**\n",
        "\n",
        "package main\n",
        "\n",
        "import (\n",
        "    \"fmt\"\n",
        ")\n",
        "\n",
        "func main() {\n",
        "    var ct, loop, tp, pp, pg, pa, pc int\n",
        "    var rendaTotal float64\n",
        "\n",
        "    fmt.Print(\"Digite o número de casos de teste: \")\n",
        "    fmt.Scanln(&ct)\n",
        "\n",
        "    for loop = 1; loop <= ct; loop++ {\n",
        "        fmt.Printf(\"Caso de teste %d: \", loop)\n",
        "        fmt.Scanln(&tp, &pp, &pg, &pa, &pc)\n",
        "\n",
        "        rendaTotal = float64(pp*1 + pg*5 + pa*10 + pc*20)\n",
        "        fmt.Printf(\"A RENDA DO JOGO N.%d E = %.2f\\n\", loop, rendaTotal)\n",
        "    }\n",
        "}\n",
        "\n"
      ],
      "metadata": {
        "id": "hpmrgQHN49Bn"
      }
    },
    {
      "cell_type": "markdown",
      "source": [
        "**QUESTÃO 3**\n",
        "\n",
        "package main\n",
        "\n",
        "import (\n",
        "\t\"fmt\"\n",
        ")\n",
        "\n",
        "func main() {\n",
        "\tvar n1, n2, n3, numero, quadrado int\n",
        "\n",
        "\tfmt.Print(\"Digite um número: \")\n",
        "\tfmt.Scanln(&n1)\n",
        "\n",
        "\tfmt.Print(\"Digite outro número: \")\n",
        "\tfmt.Scanln(&n2)\n",
        "\n",
        "\tfmt.Print(\"Digite mais um número: \")\n",
        "\tfmt.Scanln(&n3)\n",
        "\n",
        "\tif n1 >= 10 || n2 >= 10 || n3 >= 10 {\n",
        "\t\tfmt.Println(\"DÍGITO INVÁLIDO\")\n",
        "\t} else {\n",
        "\t\tnumero = (n1 * 100) + (n2 * 10) + n3\n",
        "\t\tquadrado = numero * numero\n",
        "\t\tfmt.Println(numero, \",\", quadrado)\n",
        "\t}\n",
        "}"
      ],
      "metadata": {
        "id": "EPfVVv3b5OTd"
      }
    },
    {
      "cell_type": "markdown",
      "source": [
        "**QUESTÃO 4**\n",
        "\n",
        "package main\n",
        "\n",
        "import (\n",
        "\t\"fmt\"\n",
        ")\n",
        "\n",
        "func main() {\n",
        "\tvar sm, kwGastos, valorKW, cc, cd float64\n",
        "\n",
        "\tfmt.Print(\"Digite o valor do salário mínimo: R$ \")\n",
        "\tfmt.Scanln(&sm)\n",
        "\n",
        "\tfmt.Print(\"Digite a quantidade de kW gasta pela residência: \")\n",
        "\tfmt.Scanln(&kwGastos)\n",
        "\n",
        "\tvalorKW = (sm * 0.7) / 100\n",
        "\tcc = kwGastos * valorKW\n",
        "\tcd = cc * 0.9\n",
        "\n",
        "\tfmt.Printf(\"Esse é o custo por kW: R$ %.2f\\n\", valorKW)\n",
        "\tfmt.Printf(\"Esse é o custo do consumo: R$ %.2f\\n\", cc)\n",
        "\tfmt.Printf(\"Esse é o custo com desconto: R$ %.2f\\n\", cd)\n",
        "}\n"
      ],
      "metadata": {
        "id": "hbaKhpCq5YQJ"
      }
    },
    {
      "cell_type": "markdown",
      "source": [
        "**QUESTÃO 5**\n",
        "\n",
        "package main\n",
        "\n",
        "import (\n",
        "\t\"fmt\"\n",
        ")\n",
        "\n",
        "func main() {\n",
        "\tvar cc, agua, conta float64\n",
        "\tvar tipoConsu rune\n",
        "\n",
        "\tfmt.Println(\"Digite a conta do cliente, o consumo de água e o tipo de consumidor (R - Residencial, C - Comercial, I - Industrial): \")\n",
        "\tfmt.Scanln(&cc, &agua, &tipoConsu)\n",
        "\n",
        "\tswitch tipoConsu {\n",
        "\tcase 'R':\n",
        "\t\tconta = 5.00 + 0.05*agua\n",
        "\tcase 'C':\n",
        "\t\tif agua <= 80 {\n",
        "\t\t\tconta = 500.00\n",
        "\t\t} else {\n",
        "\t\t\tconta = 500.00 + 0.25*(agua-80)\n",
        "\t\t}\n",
        "\tcase 'I':\n",
        "\t\tif agua <= 100 {\n",
        "\t\t\tconta = 800.00\n",
        "\t\t} else {\n",
        "\t\t\tconta = 800.00 + 0.04*(agua-100)\n",
        "\t\t}\n",
        "\tdefault:\n",
        "\t\tfmt.Println(\"Tipo de consumidor inválido!\")\n",
        "\t\treturn\n",
        "\t}\n",
        "\n",
        "\tfmt.Printf(\"CONTA = %.2f\\n\", conta)\n",
        "}\n"
      ],
      "metadata": {
        "id": "hq4hB-305hKR"
      }
    },
    {
      "cell_type": "markdown",
      "source": [
        "**QUESTÃO 6**\n",
        "\n",
        "package main\n",
        "\n",
        "import (\n",
        "\t\"fmt\"\n",
        ")\n",
        "\n",
        "func main() {\n",
        "\tvar n, loop int\n",
        "\tvar tf, tc float64\n",
        "\n",
        "\tfmt.Print(\"Digite o número de temperaturas para serem convertidas: \")\n",
        "\tfmt.Scanln(&n)\n",
        "\n",
        "\tfor loop = 1; loop <= n; loop++ {\n",
        "\t\tfmt.Printf(\"Digite a temperatura em Fahrenheit %d: \", loop)\n",
        "\t\tfmt.Scanln(&tf)\n",
        "\n",
        "\t\ttc = 5 * (tf - 32) / 9\n",
        "\t\tfmt.Printf(\"%.2f FAHRENHEIT EQUIVALE A %.2f CELSIUS\\n\", tf, tc)\n",
        "\t}\n",
        "}\n"
      ],
      "metadata": {
        "id": "_cjVwvzb5pop"
      }
    },
    {
      "cell_type": "markdown",
      "source": [
        "**QUESTÃO 7**\n",
        "\n",
        "package main\n",
        "\n",
        "import (\n",
        "\t\"fmt\"\n",
        ")\n",
        "\n",
        "func main() {\n",
        "\tvar tf, tc, chuvaPolegadas, chuvaMM float64\n",
        "\n",
        "\tfmt.Print(\"Digite a temperatura em Fahrenheit: \")\n",
        "\tfmt.Scanln(&tf)\n",
        "\n",
        "\tfmt.Print(\"Digite a quantidade de chuva em polegadas: \")\n",
        "\tfmt.Scanln(&chuvaPolegadas)\n",
        "\n",
        "\ttc = (5*tf - 160) / 9\n",
        "\tchuvaMM = chuvaPolegadas * 25.4\n",
        "\n",
        "\tfmt.Printf(\"O VALOR EM CELSIUS = %.2f\\n\", tc)\n",
        "\tfmt.Printf(\"A QUANTIDADE DE CHUVA É = %.2f\\n\", chuvaMM)\n",
        "}\n"
      ],
      "metadata": {
        "id": "2rrLq8jV5vur"
      }
    },
    {
      "cell_type": "markdown",
      "source": [
        "**QUESTÃO 8**\n",
        "\n",
        "package main\n",
        "\n",
        "import (\n",
        "\t\"fmt\"\n",
        ")\n",
        "\n",
        "const pi float64 = 3.14159\n",
        "\n",
        "func main() {\n",
        "\tvar raio, altura, circulo, lateral, total, custo float64\n",
        "\n",
        "\tfmt.Print(\"Digite o raio da lata (em metros): \")\n",
        "\tfmt.Scanln(&raio)\n",
        "\n",
        "\tfmt.Print(\"Digite a altura da lata (em metros): \")\n",
        "\tfmt.Scanln(&altura)\n",
        "\n",
        "\tcirculo = pi * raio * raio\n",
        "\tlateral = 2 * pi * raio * altura\n",
        "\ttotal = 2*circulo + lateral\n",
        "\tcusto = total * 100\n",
        "\n",
        "\tfmt.Printf(\"O VALOR DO CUSTO É = %.2f\\n\", custo)\n",
        "}\n"
      ],
      "metadata": {
        "id": "dCf3bpHs53Pd"
      }
    },
    {
      "cell_type": "markdown",
      "source": [
        "**QUESTÃO 9**\n",
        "\n",
        "package main\n",
        "\n",
        "import (\n",
        "\t\"fmt\"\n",
        ")\n",
        "\n",
        "func main() {\n",
        "\tvar A, B, C, delta float64\n",
        "\n",
        "\tfmt.Print(\"Digite o coeficiente A: \")\n",
        "\tfmt.Scanln(&A)\n",
        "\n",
        "\tfmt.Print(\"Digite o coeficiente B: \")\n",
        "\tfmt.Scanln(&B)\n",
        "\n",
        "\tfmt.Print(\"Digite o coeficiente C: \")\n",
        "\tfmt.Scanln(&C)\n",
        "\n",
        "\tdelta = B*B - 4*A*C\n",
        "\n",
        "\tfmt.Printf(\"O VALOR DE DELTA É = %.2f\\n\", delta)\n",
        "}\n"
      ],
      "metadata": {
        "id": "l8qjHi9459uL"
      }
    },
    {
      "cell_type": "markdown",
      "source": [
        "**QUESTÃO 10**\n",
        "\n",
        "package main\n",
        "\n",
        "import (\n",
        "\t\"fmt\"\n",
        ")\n",
        "\n",
        "func main() {\n",
        "\tvar a, b, c, d, determinante float64\n",
        "\n",
        "\tfmt.Print(\"Digite o valor de a: \")\n",
        "\tfmt.Scanln(&a)\n",
        "\n",
        "\tfmt.Print(\"Digite o valor de b: \")\n",
        "\tfmt.Scanln(&b)\n",
        "\n",
        "\tfmt.Print(\"Digite o valor de c: \")\n",
        "\tfmt.Scanln(&c)\n",
        "\n",
        "\tfmt.Print(\"Digite o valor de d: \")\n",
        "\tfmt.Scanln(&d)\n",
        "\n",
        "\tdeterminante = (a * d) - (b * c)\n",
        "\n",
        "\tfmt.Printf(\"O VALOR DO DETERMINANTE É = %.2f\\n\", determinante)\n",
        "}\n"
      ],
      "metadata": {
        "id": "1whn6wD16DGD"
      }
    },
    {
      "cell_type": "markdown",
      "source": [
        "**QUESTÃO 11**\n",
        "\n",
        "package main\n",
        "\n",
        "import (\n",
        "\t\"fmt\"\n",
        ")\n",
        "\n",
        "func main() {\n",
        "\tvar n int\n",
        "\n",
        "\tfmt.Print(\"Digite um número: \")\n",
        "\tfmt.Scanln(&n)\n",
        "\n",
        "\tif n%3 == 0 && n%5 == 0 {\n",
        "\t\tfmt.Println(\"O número é divisível\")\n",
        "\t} else {\n",
        "\t\tfmt.Println(\"O número não é divisível\")\n",
        "\t}\n",
        "}\n"
      ],
      "metadata": {
        "id": "n0CABo_-6J9D"
      }
    },
    {
      "cell_type": "markdown",
      "source": [
        "**QUESTÃO 12**\n",
        "\n",
        "package main\n",
        "\n",
        "import (\n",
        "\t\"fmt\"\n",
        ")\n",
        "\n",
        "func main() {\n",
        "\tvar horas, valor int\n",
        "\n",
        "\tfmt.Print(\"Digite o total de horas usadas: \")\n",
        "\tfmt.Scanln(&horas)\n",
        "\n",
        "\tif horas >= 3 {\n",
        "\t\tvalor = (horas / 3) * 10\n",
        "\t} else {\n",
        "\t\tvalor = (10 + (horas - 3) * 5)\n",
        "\t}\n",
        "\n",
        "\tfmt.Printf(\"O valor a pagar é %d\\n\", valor)\n",
        "}\n"
      ],
      "metadata": {
        "id": "2xLI8IdP6Qjl"
      }
    },
    {
      "cell_type": "markdown",
      "source": [
        "**QUESTÃO 13**\n",
        "\n",
        "package main\n",
        "\n",
        "import (\n",
        "\t\"fmt\"\n",
        ")\n",
        "\n",
        "func main() {\n",
        "\tvar nota float64\n",
        "\tvar conceito rune\n",
        "\n",
        "\tfmt.Print(\"Digite a nota do aluno: \")\n",
        "\tfmt.Scanln(&nota)\n",
        "\n",
        "\tif nota >= 9.0 {\n",
        "\t\tconceito = 'A'\n",
        "\t} else if nota >= 7.5 {\n",
        "\t\tconceito = 'B'\n",
        "\t} else if nota >= 6.0 {\n",
        "\t\tconceito = 'C'\n",
        "\t} else {\n",
        "\t\tconceito = 'D'\n",
        "\t}\n",
        "\n",
        "\tfmt.Printf(\"NOTA = %.1f CONCEITO = %c\\n\", nota, conceito)\n",
        "}\n"
      ],
      "metadata": {
        "id": "yemdEtct6VrE"
      }
    },
    {
      "cell_type": "markdown",
      "source": [
        "**QUESTÃO 14**\n",
        "\n",
        "package main\n",
        "\n",
        "import (\n",
        "\t\"fmt\"\n",
        "\t\"math\"\n",
        ")\n",
        "\n",
        "func main() {\n",
        "\tvar altura, aresta, base, volume float64\n",
        "\n",
        "\tfmt.Print(\"Digite a altura da pirâmide e o comprimento da aresta do hexágono: \")\n",
        "\tfmt.Scanln(&altura, &aresta)\n",
        "\n",
        "\tbase = (3 * math.Pow(aresta, 2) * math.Sqrt(3)) / 2\n",
        "\tvolume = (1.0 / 3) * base * altura\n",
        "\n",
        "\tfmt.Printf(\"O VOLUME DA PIRÂMIDE É = %.2f METROS CÚBICOS\\n\", volume)\n",
        "}\n"
      ],
      "metadata": {
        "id": "V4qdh0TQ6cAe"
      }
    },
    {
      "cell_type": "markdown",
      "source": [
        "**QUESTÃO 15**\n",
        "\n",
        "package main\n",
        "\n",
        "import (\n",
        "\t\"fmt\"\n",
        ")\n",
        "\n",
        "func main() {\n",
        "\tvar n, valor int\n",
        "\n",
        "\tfmt.Print(\"Digite um valor inteiro N (5 < N < 2000): \")\n",
        "\tfmt.Scanln(&n)\n",
        "\n",
        "\tfor valor = 1; valor <= n; valor++ {\n",
        "\t\tif valor%2 == 0 {\n",
        "\t\t\tfmt.Printf(\"%d^2 = %d\\n\", valor, valor*valor)\n",
        "\t\t}\n",
        "\t}\n",
        "}\n"
      ],
      "metadata": {
        "id": "0VhtePiS6iD9"
      }
    },
    {
      "cell_type": "markdown",
      "source": [
        "**QUESTÃO 16**\n",
        "\n",
        "package main\n",
        "\n",
        "import (\n",
        "\t\"fmt\"\n",
        ")\n",
        "\n",
        "func main() {\n",
        "\tvar salario, reajustado float64\n",
        "\n",
        "\tfmt.Print(\"Digite o salário do funcionário: \")\n",
        "\tfmt.Scanln(&salario)\n",
        "\n",
        "\tif salario <= 300 {\n",
        "\t\treajustado = salario + (salario * 0.5)\n",
        "\t} else {\n",
        "\t\treajustado = salario + (salario * 0.3)\n",
        "\t}\n",
        "\n",
        "\tfmt.Printf(\"Salário com reajuste = %.2f\\n\", reajustado)\n",
        "}\n"
      ],
      "metadata": {
        "id": "5VU5EN8_6nrd"
      }
    },
    {
      "cell_type": "markdown",
      "source": [
        "**QUESTÃO 17**\n",
        "\n",
        "package main\n",
        "\n",
        "import (\n",
        "\t\"fmt\"\n",
        ")\n",
        "\n",
        "func main() {\n",
        "\tvar x, y, i int\n",
        "\n",
        "\tfmt.Print(\"Digite dois números inteiros separados por espaço: \")\n",
        "\tfmt.Scanln(&x, &y)\n",
        "\n",
        "\tif x%2 == 0 {\n",
        "\t\tfmt.Print(\"Sequência de números pares: \")\n",
        "\t\tfor i = 0; i < y; i++ {\n",
        "\t\t\tfmt.Printf(\"%d \", x+i*2)\n",
        "\t\t}\n",
        "\t\tfmt.Println()\n",
        "\t} else {\n",
        "\t\tfmt.Println(\"O PRIMEIRO NUMERO NAO É PAR\")\n",
        "\t}\n",
        "}\n"
      ],
      "metadata": {
        "id": "wC827SXM6vFd"
      }
    },
    {
      "cell_type": "markdown",
      "source": [
        "**QUESTÃO 18**\n",
        "\n",
        "package main\n",
        "\n",
        "import (\n",
        "\t\"fmt\"\n",
        ")\n",
        "\n",
        "func main() {\n",
        "\tvar a1, r, n, soma, i int\n",
        "\n",
        "\tfmt.Print(\"Digite o primeiro elemento da PA: \")\n",
        "\tfmt.Scanln(&a1)\n",
        "\n",
        "\tfmt.Print(\"Digite a razão da PA: \")\n",
        "\tfmt.Scanln(&r)\n",
        "\n",
        "\tfmt.Print(\"Digite o número de termos da PA: \")\n",
        "\tfmt.Scanln(&n)\n",
        "\n",
        "\tsoma = 0\n",
        "\n",
        "\tfor i = 1; i <= n; i++ {\n",
        "\t\tsoma += a1 + (i-1)*r\n",
        "\t}\n",
        "\n",
        "\tfmt.Printf(\"A soma dos %d primeiros termos da PA é: %d\\n\", n, soma)\n",
        "}\n"
      ],
      "metadata": {
        "id": "Blfbxht860N-"
      }
    },
    {
      "cell_type": "markdown",
      "source": [
        "**QUESTÃO 19**\n",
        "\n",
        "package main\n",
        "\n",
        "import (\n",
        "\t\"fmt\"\n",
        ")\n",
        "\n",
        "func main() {\n",
        "\tvar n, k int\n",
        "\tvar S float64\n",
        "\n",
        "\tfmt.Print(\"Digite um número inteiro positivo maior que 1: \")\n",
        "\tfmt.Scanln(&n)\n",
        "\n",
        "\tif n <= 1 {\n",
        "\t\tfmt.Println(\"Número inválido!\")\n",
        "\t} else {\n",
        "\t\tS = 0\n",
        "\t\tfor k = 1; k <= n; k++ {\n",
        "\t\t\tS += 1.0 / float64(k)\n",
        "\t\t}\n",
        "\t\tfmt.Printf(\"S = %.6f\\n\", S)\n",
        "\t}\n",
        "}\n"
      ],
      "metadata": {
        "id": "laEtSuoz65JI"
      }
    },
    {
      "cell_type": "markdown",
      "source": [
        "**QUESTÃO 20**\n",
        "\n",
        "package main\n",
        "\n",
        "import (\n",
        "\t\"fmt\"\n",
        ")\n",
        "\n",
        "func main() {\n",
        "\tvar horas, minutos, segundos, resultado int\n",
        "\n",
        "\tfmt.Print(\"Digite o valor das horas: \")\n",
        "\tfmt.Scanln(&horas)\n",
        "\n",
        "\tfmt.Print(\"Digite o valor dos minutos: \")\n",
        "\tfmt.Scanln(&minutos)\n",
        "\n",
        "\tfmt.Print(\"Digite o valor dos segundos: \")\n",
        "\tfmt.Scanln(&segundos)\n",
        "\n",
        "\tresultado = (horas * 3600) + (minutos * 60) + segundos\n",
        "\n",
        "\tfmt.Println(\"O TEMPO EM SEGUNDOS É =\", resultado)\n",
        "\tfmt.Println()\n",
        "}\n",
        "\n"
      ],
      "metadata": {
        "id": "pndo8Z_G7B7H"
      }
    }
  ]
}