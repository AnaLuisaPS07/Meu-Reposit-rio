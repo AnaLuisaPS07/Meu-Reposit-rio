{
  "nbformat": 4,
  "nbformat_minor": 0,
  "metadata": {
    "colab": {
      "provenance": [],
      "authorship_tag": "ABX9TyMSMd3Tl9WQ+P5xNeRJoV4S",
      "include_colab_link": true
    },
    "kernelspec": {
      "name": "python3",
      "display_name": "Python 3"
    },
    "language_info": {
      "name": "python"
    }
  },
  "cells": [
    {
      "cell_type": "markdown",
      "metadata": {
        "id": "view-in-github",
        "colab_type": "text"
      },
      "source": [
        "<a href=\"https://colab.research.google.com/github/AnaLuisaPS07/ip-2024-01/blob/main/Lista_01_GO.ipynb\" target=\"_parent\"><img src=\"https://colab.research.google.com/assets/colab-badge.svg\" alt=\"Open In Colab\"/></a>"
      ]
    },
    {
      "cell_type": "markdown",
      "source": [
        "Ana Luísa Pereira dos Santos - 202400913\n",
        "     \n",
        "//Essa atividade foi postada dentro do prazo estabelecido, porém estava em formatação de texto, fiz a alteração para o formato de código para melhor visualização/compreensão."
      ],
      "metadata": {
        "id": "AAjMGc-JaKPD"
      }
    },
    {
      "cell_type": "code",
      "execution_count": null,
      "metadata": {
        "id": "WXamnG_a4Y1w"
      },
      "outputs": [],
      "source": [
        "**QUESTÃO 1**\n",
        "\n",
        "package main\n",
        "\n",
        "import \"fmt\"\n",
        "\n",
        "func main() {\n",
        "\tvar n1, n2, n3, media float64\n",
        "\n",
        "\tfmt.Print(\"Digite a primeira nota: \")\n",
        "\tfmt.Scanln(&n1)\n",
        "\n",
        "\tfmt.Print(\"Digite a segunda nota: \")\n",
        "\tfmt.Scanln(&n2)\n",
        "\n",
        "\tfmt.Print(\"Digite a terceira nota: \")\n",
        "\tfmt.Scanln(&n3)\n",
        "\n",
        "\tmedia = (n1 + n2 + n3) / 3\n",
        "\n",
        "\tif media >= 6 {\n",
        "\t\tfmt.Println(\"Média:\", media)\n",
        "\t\tfmt.Println(\"Aprovado\")\n",
        "\t} else {\n",
        "\t\tfmt.Println(\"Média:\", media)\n",
        "\t\tfmt.Println(\"REPROVADO\")\n",
        "\t}\n",
        "}\n"
      ]
    },
    {
      "cell_type": "code",
      "source": [
        "QUESTÃO 2\n",
        "\n",
        "package main\n",
        "\n",
        "import ( \"fmt\" )\n",
        "\n",
        "func main() { var ct, loop, tp, pp, pg, pa, pc int var rendaTotal float64\n",
        "\n",
        "fmt.Print(\"Digite o número de casos de teste: \")\n",
        "fmt.Scanln(&ct)\n",
        "\n",
        "for loop = 1; loop <= ct; loop++ {\n",
        "    fmt.Printf(\"Caso de teste %d: \", loop)\n",
        "    fmt.Scanln(&tp, &pp, &pg, &pa, &pc)\n",
        "\n",
        "    rendaTotal = float64(pp*1 + pg*5 + pa*10 + pc*20)\n",
        "    fmt.Printf(\"A RENDA DO JOGO N.%d E = %.2f\\n\", loop, rendaTotal)\n",
        "}\n",
        "}"
      ],
      "metadata": {
        "id": "XLSGC0RBYsAH"
      },
      "execution_count": null,
      "outputs": []
    },
    {
      "cell_type": "code",
      "source": [
        "QUESTÃO 3\n",
        "\n",
        "package main\n",
        "\n",
        "import ( \"fmt\" )\n",
        "\n",
        "func main() { var n1, n2, n3, numero, quadrado int\n",
        "\n",
        "fmt.Print(\"Digite um número: \")\n",
        "fmt.Scanln(&n1)\n",
        "\n",
        "fmt.Print(\"Digite outro número: \")\n",
        "fmt.Scanln(&n2)\n",
        "\n",
        "fmt.Print(\"Digite mais um número: \")\n",
        "fmt.Scanln(&n3)\n",
        "\n",
        "if n1 >= 10 || n2 >= 10 || n3 >= 10 {\n",
        "    fmt.Println(\"DÍGITO INVÁLIDO\")\n",
        "} else {\n",
        "    numero = (n1 * 100) + (n2 * 10) + n3\n",
        "    quadrado = numero * numero\n",
        "    fmt.Println(numero, \",\", quadrado)\n",
        "}\n",
        "}"
      ],
      "metadata": {
        "id": "4cuxQM6gYr40"
      },
      "execution_count": null,
      "outputs": []
    },
    {
      "cell_type": "code",
      "source": [
        "QUESTÃO 4\n",
        "\n",
        "package main\n",
        "\n",
        "import ( \"fmt\" )\n",
        "\n",
        "func main() { var sm, kwGastos, valorKW, cc, cd float64\n",
        "\n",
        "fmt.Print(\"Digite o valor do salário mínimo: R$ \")\n",
        "fmt.Scanln(&sm)\n",
        "\n",
        "fmt.Print(\"Digite a quantidade de kW gasta pela residência: \")\n",
        "fmt.Scanln(&kwGastos)\n",
        "\n",
        "valorKW = (sm * 0.7) / 100\n",
        "cc = kwGastos * valorKW\n",
        "cd = cc * 0.9\n",
        "\n",
        "fmt.Printf(\"Esse é o custo por kW: R$ %.2f\\n\", valorKW)\n",
        "\tfmt.Printf(\"Esse é o custo do consumo: R$ %.2f\\n\", cc)\n",
        "fmt.Printf(\"Esse é o custo com desconto: R$ %.2f\\n\", cd)\n",
        "}"
      ],
      "metadata": {
        "id": "8eakf_AAYrod"
      },
      "execution_count": null,
      "outputs": []
    },
    {
      "cell_type": "code",
      "source": [
        "QUESTÃO 5\n",
        "\n",
        "package main\n",
        "\n",
        "import ( \"fmt\" )\n",
        "\n",
        "func main() { var cc, agua, conta float64 var tipoConsu rune\n",
        "\n",
        "fmt.Println(\"Digite a conta do cliente, o consumo de água e o tipo de consumidor (R - Residencial, C - Comercial, I - Industrial): \")\n",
        "fmt.Scanln(&cc, &agua, &tipoConsu)\n",
        "\n",
        "switch tipoConsu {\n",
        "case 'R':\n",
        "    conta = 5.00 + 0.05*agua\n",
        "case 'C':\n",
        "    if agua <= 80 {\n",
        "        conta = 500.00\n",
        "    } else {\n",
        "        conta = 500.00 + 0.25*(agua-80)\n",
        "    }\n",
        "case 'I':\n",
        "    if agua <= 100 {\n",
        "        conta = 800.00\n",
        "    } else {\n",
        "        conta = 800.00 + 0.04*(agua-100)\n",
        "    }\n",
        "default:\n",
        "    fmt.Println(\"Tipo de consumidor inválido!\")\n",
        "    return\n",
        "}\n",
        "\n",
        "fmt.Printf(\"CONTA = %.2f\\n\", conta)\n",
        "}"
      ],
      "metadata": {
        "id": "k2PKBBb6YrhN"
      },
      "execution_count": null,
      "outputs": []
    },
    {
      "cell_type": "code",
      "source": [
        "QUESTÃO 6\n",
        "\n",
        "package main\n",
        "\n",
        "import ( \"fmt\" )\n",
        "\n",
        "func main() { var n, loop int var tf, tc float64\n",
        "\n",
        "fmt.Print(\"Digite o número de temperaturas para serem convertidas: \")\n",
        "fmt.Scanln(&n)\n",
        "\n",
        "for loop = 1; loop <= n; loop++ {\n",
        "    fmt.Printf(\"Digite a temperatura em Fahrenheit %d: \", loop)\n",
        "    fmt.Scanln(&tf)\n",
        "\n",
        "    tc = 5 * (tf - 32) / 9\n",
        "    fmt.Printf(\"%.2f FAHRENHEIT EQUIVALE A %.2f CELSIUS\\n\", tf, tc)\n",
        "}\n",
        "}"
      ],
      "metadata": {
        "id": "FvU34UDeYrX9"
      },
      "execution_count": null,
      "outputs": []
    },
    {
      "cell_type": "code",
      "source": [
        "QUESTÃO 7\n",
        "\n",
        "package main\n",
        "\n",
        "import ( \"fmt\" )\n",
        "\n",
        "func main() { var tf, tc, chuvaPolegadas, chuvaMM float64\n",
        "\n",
        "fmt.Print(\"Digite a temperatura em Fahrenheit: \")\n",
        "fmt.Scanln(&tf)\n",
        "\n",
        "fmt.Print(\"Digite a quantidade de chuva em polegadas: \")\n",
        "fmt.Scanln(&chuvaPolegadas)\n",
        "\n",
        "tc = (5*tf - 160) / 9\n",
        "chuvaMM = chuvaPolegadas * 25.4\n",
        "\n",
        "fmt.Printf(\"O VALOR EM CELSIUS = %.2f\\n\", tc)\n",
        "fmt.Printf(\"A QUANTIDADE DE CHUVA É = %.2f\\n\", chuvaMM)\n",
        "}"
      ],
      "metadata": {
        "id": "32kXXMq2YrP9"
      },
      "execution_count": null,
      "outputs": []
    },
    {
      "cell_type": "code",
      "source": [
        "QUESTÃO 8\n",
        "\n",
        "package main\n",
        "\n",
        "import ( \"fmt\" )\n",
        "\n",
        "const pi float64 = 3.14159\n",
        "\n",
        "func main() { var raio, altura, circulo, lateral, total, custo float64\n",
        "\n",
        "fmt.Print(\"Digite o raio da lata (em metros): \")\n",
        "fmt.Scanln(&raio)\n",
        "\n",
        "fmt.Print(\"Digite a altura da lata (em metros): \")\n",
        "fmt.Scanln(&altura)\n",
        "\n",
        "circulo = pi * raio * raio\n",
        "lateral = 2 * pi * raio * altura\n",
        "total = 2*circulo + lateral\n",
        "custo = total * 100\n",
        "\n",
        "fmt.Printf(\"O VALOR DO CUSTO É = %.2f\\n\", custo)\n",
        "}"
      ],
      "metadata": {
        "id": "C6TewNLBYrIc"
      },
      "execution_count": null,
      "outputs": []
    },
    {
      "cell_type": "code",
      "source": [
        "QUESTÃO 9\n",
        "\n",
        "package main\n",
        "\n",
        "import ( \"fmt\" )\n",
        "\n",
        "func main() { var A, B, C, delta float64\n",
        "\n",
        "fmt.Print(\"Digite o coeficiente A: \")\n",
        "fmt.Scanln(&A)\n",
        "\n",
        "fmt.Print(\"Digite o coeficiente B: \")\n",
        "fmt.Scanln(&B)\n",
        "\n",
        "fmt.Print(\"Digite o coeficiente C: \")\n",
        "fmt.Scanln(&C)\n",
        "\n",
        "delta = B*B - 4*A*C\n",
        "\n",
        "fmt.Printf(\"O VALOR DE DELTA É = %.2f\\n\", delta)\n",
        "}"
      ],
      "metadata": {
        "id": "26QvnoCoYrA0"
      },
      "execution_count": null,
      "outputs": []
    },
    {
      "cell_type": "code",
      "source": [
        "QUESTÃO 10\n",
        "\n",
        "package main\n",
        "\n",
        "import ( \"fmt\" )\n",
        "\n",
        "func main() { var a, b, c, d, determinante float64\n",
        "\n",
        "fmt.Print(\"Digite o valor de a: \")\n",
        "fmt.Scanln(&a)\n",
        "\n",
        "fmt.Print(\"Digite o valor de b: \")\n",
        "fmt.Scanln(&b)\n",
        "\n",
        "fmt.Print(\"Digite o valor de c: \")\n",
        "fmt.Scanln(&c)\n",
        "\n",
        "fmt.Print(\"Digite o valor de d: \")\n",
        "fmt.Scanln(&d)\n",
        "\n",
        "determinante = (a * d) - (b * c)\n",
        "\n",
        "fmt.Printf(\"O VALOR DO DETERMINANTE É = %.2f\\n\", determinante)\n",
        "}"
      ],
      "metadata": {
        "id": "GoI2BiplYq4c"
      },
      "execution_count": null,
      "outputs": []
    },
    {
      "cell_type": "code",
      "source": [
        "QUESTÃO 11\n",
        "\n",
        "package main\n",
        "\n",
        "import ( \"fmt\" )\n",
        "\n",
        "func main() { var n int\n",
        "\n",
        "fmt.Print(\"Digite um número: \")\n",
        "fmt.Scanln(&n)\n",
        "\n",
        "if n%3 == 0 && n%5 == 0 {\n",
        "    fmt.Println(\"O número é divisível\")\n",
        "} else {\n",
        "    fmt.Println(\"O número não é divisível\")\n",
        "}\n",
        "}"
      ],
      "metadata": {
        "id": "rxQKG6fwYqwc"
      },
      "execution_count": null,
      "outputs": []
    },
    {
      "cell_type": "code",
      "source": [
        "QUESTÃO 12\n",
        "\n",
        "package main\n",
        "\n",
        "import ( \"fmt\" )\n",
        "\n",
        "func main() { var horas, valor int\n",
        "\n",
        "fmt.Print(\"Digite o total de horas usadas: \")\n",
        "fmt.Scanln(&horas)\n",
        "\n",
        "if horas >= 3 {\n",
        "    valor = (horas / 3) * 10\n",
        "} else {\n",
        "    valor = (10 + (horas - 3) * 5)\n",
        "}\n",
        "\n",
        "fmt.Printf(\"O valor a pagar é %d\\n\", valor)\n",
        "}"
      ],
      "metadata": {
        "id": "8ZKMrxrMYqok"
      },
      "execution_count": null,
      "outputs": []
    },
    {
      "cell_type": "code",
      "source": [
        "QUESTÃO 13\n",
        "\n",
        "package main\n",
        "\n",
        "import ( \"fmt\" )\n",
        "\n",
        "func main() { var nota float64 var conceito rune\n",
        "\n",
        "fmt.Print(\"Digite a nota do aluno: \")\n",
        "fmt.Scanln(&nota)\n",
        "\n",
        "if nota >= 9.0 {\n",
        "    conceito = 'A'\n",
        "} else if nota >= 7.5 {\n",
        "    conceito = 'B'\n",
        "} else if nota >= 6.0 {\n",
        "    conceito = 'C'\n",
        "} else {\n",
        "    conceito = 'D'\n",
        "}\n",
        "\n",
        "fmt.Printf(\"NOTA = %.1f CONCEITO = %c\\n\", nota, conceito)\n",
        "}"
      ],
      "metadata": {
        "id": "P2y0mjntYqf-"
      },
      "execution_count": null,
      "outputs": []
    },
    {
      "cell_type": "code",
      "source": [
        "QUESTÃO 14\n",
        "\n",
        "package main\n",
        "\n",
        "import ( \"fmt\" \"math\" )\n",
        "\n",
        "func main() { var altura, aresta, base, volume float64\n",
        "\n",
        "fmt.Print(\"Digite a altura da pirâmide e o comprimento da aresta do hexágono: \")\n",
        "fmt.Scanln(&altura, &aresta)\n",
        "\n",
        "base = (3 * math.Pow(aresta, 2) * math.Sqrt(3)) / 2\n",
        "volume = (1.0 / 3) * base * altura\n",
        "\n",
        "fmt.Printf(\"O VOLUME DA PIRÂMIDE É = %.2f METROS CÚBICOS\\n\", volume)\n",
        "}"
      ],
      "metadata": {
        "id": "8RUHbc8hYqY1"
      },
      "execution_count": null,
      "outputs": []
    },
    {
      "cell_type": "code",
      "source": [
        "QUESTÃO 15\n",
        "\n",
        "package main\n",
        "\n",
        "import ( \"fmt\" )\n",
        "\n",
        "func main() { var n, valor int\n",
        "\n",
        "fmt.Print(\"Digite um valor inteiro N (5 < N < 2000): \")\n",
        "fmt.Scanln(&n)\n",
        "\n",
        "for valor = 1; valor <= n; valor++ {\n",
        "    if valor%2 == 0 {\n",
        "        fmt.Printf(\"%d^2 = %d\\n\", valor, valor*valor)\n",
        "    }\n",
        "}\n",
        "}"
      ],
      "metadata": {
        "id": "k4bCSlX6YqQ2"
      },
      "execution_count": null,
      "outputs": []
    },
    {
      "cell_type": "code",
      "source": [
        "QUESTÃO 16\n",
        "\n",
        "package main\n",
        "\n",
        "import ( \"fmt\" )\n",
        "\n",
        "func main() { var salario, reajustado float64\n",
        "\n",
        "fmt.Print(\"Digite o salário do funcionário: \")\n",
        "fmt.Scanln(&salario)\n",
        "\n",
        "if salario <= 300 {\n",
        "    reajustado = salario + (salario * 0.5)\n",
        "} else {\n",
        "    reajustado = salario + (salario * 0.3)\n",
        "}\n",
        "\n",
        "fmt.Printf(\"Salário com reajuste = %.2f\\n\", reajustado)\n",
        "}"
      ],
      "metadata": {
        "id": "VSQ5dOSvYqHF"
      },
      "execution_count": null,
      "outputs": []
    },
    {
      "cell_type": "code",
      "source": [
        "QUESTÃO 17\n",
        "\n",
        "package main\n",
        "\n",
        "import ( \"fmt\" )\n",
        "\n",
        "func main() { var x, y, i int\n",
        "\n",
        "fmt.Print(\"Digite dois números inteiros separados por espaço: \")\n",
        "fmt.Scanln(&x, &y)\n",
        "\n",
        "if x%2 == 0 {\n",
        "    fmt.Print(\"Sequência de números pares: \")\n",
        "    for i = 0; i < y; i++ {\n",
        "        fmt.Printf(\"%d \", x+i*2)\n",
        "    }\n",
        "    fmt.Println()\n",
        "} else {\n",
        "    fmt.Println(\"O PRIMEIRO NUMERO NAO É PAR\")\n",
        "}\n",
        "}"
      ],
      "metadata": {
        "id": "cHOLkfGcYp_9"
      },
      "execution_count": null,
      "outputs": []
    },
    {
      "cell_type": "code",
      "source": [
        "QUESTÃO 18\n",
        "\n",
        "package main\n",
        "\n",
        "import ( \"fmt\" )\n",
        "\n",
        "func main() { var a1, r, n, soma, i int\n",
        "\n",
        "fmt.Print(\"Digite o primeiro elemento da PA: \")\n",
        "fmt.Scanln(&a1)\n",
        "\n",
        "fmt.Print(\"Digite a razão da PA: \")\n",
        "fmt.Scanln(&r)\n",
        "\n",
        "fmt.Print(\"Digite o número de termos da PA: \")\n",
        "fmt.Scanln(&n)\n",
        "\n",
        "soma = 0\n",
        "\n",
        "for i = 1; i <= n; i++ {\n",
        "    soma += a1 + (i-1)*r\n",
        "}\n",
        "\n",
        "fmt.Printf(\"A soma dos %d primeiros termos da PA é: %d\\n\", n, soma)\n",
        "}"
      ],
      "metadata": {
        "id": "zNmqXyqEYp4c"
      },
      "execution_count": null,
      "outputs": []
    },
    {
      "cell_type": "code",
      "source": [
        "QUESTÃO 19\n",
        "\n",
        "package main\n",
        "\n",
        "import ( \"fmt\" )\n",
        "\n",
        "func main() { var n, k int var S float64\n",
        "\n",
        "fmt.Print(\"Digite um número inteiro positivo maior que 1: \")\n",
        "fmt.Scanln(&n)\n",
        "\n",
        "if n <= 1 {\n",
        "    fmt.Println(\"Número inválido!\")\n",
        "} else {\n",
        "    S = 0\n",
        "    for k = 1; k <= n; k++ {\n",
        "        S += 1.0 / float64(k)\n",
        "    }\n",
        "    fmt.Printf(\"S = %.6f\\n\", S)\n",
        "}\n",
        "}"
      ],
      "metadata": {
        "id": "9qzFOBrWYptl"
      },
      "execution_count": null,
      "outputs": []
    },
    {
      "cell_type": "code",
      "source": [
        "QUESTÃO 20\n",
        "\n",
        "package main\n",
        "\n",
        "import ( \"fmt\" )\n",
        "\n",
        "func main() { var horas, minutos, segundos, resultado int\n",
        "\n",
        "fmt.Print(\"Digite o valor das horas: \")\n",
        "fmt.Scanln(&horas)\n",
        "\n",
        "fmt.Print(\"Digite o valor dos minutos: \")\n",
        "fmt.Scanln(&minutos)\n",
        "\n",
        "fmt.Print(\"Digite o valor dos segundos: \")\n",
        "fmt.Scanln(&segundos)\n",
        "\n",
        "resultado = (horas * 3600) + (minutos * 60) + segundos\n",
        "\n",
        "fmt.Println(\"O TEMPO EM SEGUNDOS É =\", resultado)\n",
        "fmt.Println()\n",
        "}\n",
        "\n"
      ],
      "metadata": {
        "id": "qlN7Gs_yZ2Sh"
      },
      "execution_count": null,
      "outputs": []
    }
  ]
}